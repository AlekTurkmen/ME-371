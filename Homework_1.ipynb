{
  "cells": [
    {
      "cell_type": "markdown",
      "source": [
        "# Homework I - Fall 2023\n",
        "\n",
        "This assignment will be graded automatically. Therefore:\n",
        "1. MAKE SURE to answer each question in the cell below that question and your code goes under\n",
        "`# YOUR CODE HERE` comment\n",
        "2. DO NOT rename the functions\n",
        "3. REMOVE `raise NotImplementedError()` first and then write your code\n",
        "4. DO NOT REMOVE ANY CELL\n",
        "5. Once you are done, MAKE SURE that you restart the kernel and run all the codes before you submit your assignment. This is under `Runtime`, option `Restart and run all` on Google Colab notebook.\n",
        "6. DO NOT rename the file."
      ],
      "metadata": {
        "deletable": false,
        "editable": false,
        "nbgrader": {
          "cell_type": "markdown",
          "checksum": "ee0c2acdae396a3a42edf9160c69532b",
          "grade": false,
          "grade_id": "cell-91813415fcf3cd5e",
          "locked": true,
          "schema_version": 3,
          "solution": false,
          "task": false
        },
        "id": "890b08d8"
      },
      "id": "890b08d8"
    },
    {
      "cell_type": "markdown",
      "source": [
        "**Question I (2 pts):** Write a function that takes in a list and returns a list with items that are squared of items in the original list. Don't use any special Python library. For example,\n",
        "```python\n",
        "square_list([10])\n",
        "```\n",
        "should return\n",
        "```python\n",
        "[100]\n",
        "```"
      ],
      "metadata": {
        "deletable": false,
        "editable": false,
        "nbgrader": {
          "cell_type": "markdown",
          "checksum": "165a2cedae3a022aca7518278e1c32c0",
          "grade": false,
          "grade_id": "cell-2a442ee5a71f2c36",
          "locked": true,
          "schema_version": 3,
          "solution": false,
          "task": false
        },
        "id": "1d838071"
      },
      "id": "1d838071"
    },
    {
      "cell_type": "code",
      "source": [
        "def square_list(input_list):\n",
        "    \"\"\"\n",
        "    The input to the function will be a list.\n",
        "    Calling the function on a list should return a list with\n",
        "    squared values as its items.\n",
        "    \"\"\"\n",
        "    # YOUR CODE HERE\n",
        "    squared_list = []  #init empty list\n",
        "    for item in input_list:\n",
        "        squared_list.append(item ** 2)  #square items\n",
        "    return squared_list"
      ],
      "outputs": [],
      "execution_count": 27,
      "metadata": {
        "deletable": false,
        "nbgrader": {
          "cell_type": "code",
          "checksum": "5d752055d903158f0fd2c25a6c07eabb",
          "grade": false,
          "grade_id": "cell-198c9585a2609842",
          "locked": false,
          "schema_version": 3,
          "solution": true,
          "task": false
        },
        "id": "befe20b4"
      },
      "id": "befe20b4"
    },
    {
      "cell_type": "code",
      "source": [
        "# Run this cell to test your code\n",
        "assert square_list([10]) == [100]"
      ],
      "outputs": [],
      "execution_count": 28,
      "metadata": {
        "deletable": false,
        "editable": false,
        "nbgrader": {
          "cell_type": "code",
          "checksum": "47ab208d12d5ce01fc4c3e7d104af84d",
          "grade": true,
          "grade_id": "cell-867298ad0eae73db",
          "locked": true,
          "points": 2,
          "schema_version": 3,
          "solution": false,
          "task": false
        },
        "id": "07deea87"
      },
      "id": "07deea87"
    },
    {
      "cell_type": "markdown",
      "source": [
        "**Quesion II (4 pts):**\n",
        "\n",
        "_Part (1)_: Write a function that takes a dictionary and a key-value as inputs, add the key-value to the dictionary, and return the updated dictionary. For example, if the function take\n",
        "```python\n",
        "SampleDictionary = {'Data-Driven Prb Solving' : '9am', 'Pyhon for Data Analysis' : '6:10pm', 'Reinforcement Learning' : '10am'}\n",
        "```\n",
        "and\n",
        "```python\n",
        "'added key' : 'corresponding value'\n",
        "```\n",
        "it should return\n",
        "```python\n",
        "{'Data-Driven Prb Solving' : '9am', 'Pyhon for Data Analysis' : '6:10pm', 'Reinforcement Learning' : '10am', 'added key' : 'corresponding value'}\n",
        "```"
      ],
      "metadata": {
        "deletable": false,
        "editable": false,
        "nbgrader": {
          "cell_type": "markdown",
          "checksum": "2e2069680cfe9c913c5d03b922abfa7d",
          "grade": false,
          "grade_id": "cell-0c3631c7aed1d978",
          "locked": true,
          "schema_version": 3,
          "solution": false,
          "task": false
        },
        "id": "64fc8368"
      },
      "id": "64fc8368"
    },
    {
      "cell_type": "code",
      "source": [
        "def adding_key_values(dictionary_input, key, value):\n",
        "    \"\"\"\n",
        "    The inputs are:\n",
        "    dictionary_input: original dictionary with some keys and values\n",
        "    key: the key that we want to add to the dictionary\n",
        "    value: the corresponding value for the given key\n",
        "\n",
        "    The output:\n",
        "    the updated dictionary with added key-value pair\n",
        "    \"\"\"\n",
        "    # YOUR CODE HERE\n",
        "    dictionary_input.update({key: value})#adds key and value (2nd and 3rd inputs) into dictionary (1st input)\n",
        "    return dictionary_input\n"
      ],
      "outputs": [],
      "execution_count": 30,
      "metadata": {
        "deletable": false,
        "nbgrader": {
          "cell_type": "code",
          "checksum": "2ca9cef5441a40bafb496deed109704c",
          "grade": false,
          "grade_id": "cell-86b7bf9cb9455a70",
          "locked": false,
          "schema_version": 3,
          "solution": true,
          "task": false
        },
        "id": "6005d56c"
      },
      "id": "6005d56c"
    },
    {
      "cell_type": "code",
      "source": [
        "# Run this cell to test your code\n",
        "assert adding_key_values({'key1':'value1'}, 'key2', 'value2')=={'key1':'value1', 'key2':'value2'}"
      ],
      "outputs": [],
      "execution_count": 31,
      "metadata": {
        "deletable": false,
        "editable": false,
        "nbgrader": {
          "cell_type": "code",
          "checksum": "0fc0c2b408bd20c9f6dc326b03a279a1",
          "grade": true,
          "grade_id": "cell-f4f2476d0c713e1a",
          "locked": true,
          "points": 2,
          "schema_version": 3,
          "solution": false,
          "task": false
        },
        "id": "ee915864"
      },
      "id": "ee915864"
    },
    {
      "cell_type": "markdown",
      "source": [
        "_Part (2)_: Write a new function that takes a dictionary and a key, removes the key and its corresponding value from the dictionary, and then returns the updated dictionary. For example, if the function takes\n",
        "```python\n",
        "{'Data-Driven Prb Solving' : '9am', 'Pyhon for Data Analysis' : '6:10pm', 'Reinforcement Learning' : '10am'}\n",
        "```\n",
        "and\n",
        "```python\n",
        "'Data-Driven Prb Solving'\n",
        "```\n",
        "it should return\n",
        "```python\n",
        "{'Pyhon for Data Analysis' : '6:10pm', 'Reinforcement Learning' : '10am'}\n",
        "```"
      ],
      "metadata": {
        "deletable": false,
        "editable": false,
        "nbgrader": {
          "cell_type": "markdown",
          "checksum": "a684345899d6d8d0c5f723b339faa630",
          "grade": false,
          "grade_id": "cell-08d6c19c21b5a38f",
          "locked": true,
          "schema_version": 3,
          "solution": false,
          "task": false
        },
        "id": "aae2f312"
      },
      "id": "aae2f312"
    },
    {
      "cell_type": "code",
      "source": [
        "def removing_a_key_value(dictionary_input, key):\n",
        "    \"\"\"\n",
        "    The inputs are:\n",
        "    dictionary_input: original dictionary with some keys and values\n",
        "    key: the key that we want to remove with its value\n",
        "\n",
        "    The output:\n",
        "    the updated dictionary without the key-value pair\n",
        "    \"\"\"\n",
        "    # YOUR CODE HERE\n",
        "    dictionary_input.pop(key)#deletes key (2nd input) out of dictionary (1st input)\n",
        "    return dictionary_input\n"
      ],
      "outputs": [],
      "execution_count": 32,
      "metadata": {
        "deletable": false,
        "nbgrader": {
          "cell_type": "code",
          "checksum": "328e04f3733c351fcbb18c87dd6bf1b0",
          "grade": false,
          "grade_id": "cell-5d7a969a6e3c6338",
          "locked": false,
          "schema_version": 3,
          "solution": true,
          "task": false
        },
        "id": "ae71a6dd"
      },
      "id": "ae71a6dd"
    },
    {
      "cell_type": "code",
      "source": [
        "# Run this cell to test your code\n",
        "assert removing_a_key_value(\n",
        "    {'Data-Driven Prb Solving' : '9am',\n",
        "     'Pyhon for Data Analysis' : '6:10pm',\n",
        "     'Reinforcement Learning' : '10am'}, 'Data-Driven Prb Solving') == {\n",
        "    'Pyhon for Data Analysis' : '6:10pm',\n",
        "    'Reinforcement Learning' : '10am'}"
      ],
      "outputs": [],
      "execution_count": 33,
      "metadata": {
        "deletable": false,
        "editable": false,
        "nbgrader": {
          "cell_type": "code",
          "checksum": "42d5c4a5992f2167b227dfba37f376aa",
          "grade": true,
          "grade_id": "cell-72609d9ab586bc9a",
          "locked": true,
          "points": 2,
          "schema_version": 3,
          "solution": false,
          "task": false
        },
        "id": "f3db988b"
      },
      "id": "f3db988b"
    },
    {
      "cell_type": "markdown",
      "source": [
        "**Question III (3 pts):** Write a function that takes a string, converts the string into a list, and then returns a list with items that are evey other letter in the string. For example, if the function takes\n",
        "```python\n",
        "'This string is written for homework I'\n",
        "```\n",
        "the output should be\n",
        "```python\n",
        "['T', 'i', ' ', 't', 'i', 'g', 'i', ' ', 'r', 't', 'e', ' ', 'o', ' ', 'o', 'e', 'o', 'k', 'I']\n",
        "```"
      ],
      "metadata": {
        "deletable": false,
        "editable": false,
        "nbgrader": {
          "cell_type": "markdown",
          "checksum": "13770762867b15202ccbbca53a37af05",
          "grade": false,
          "grade_id": "cell-5d59362619840e6c",
          "locked": true,
          "schema_version": 3,
          "solution": false,
          "task": false
        },
        "id": "077b7335"
      },
      "id": "077b7335"
    },
    {
      "cell_type": "code",
      "source": [
        "def string_manipulation(string_in):\n",
        "    \"\"\"\n",
        "    The input:\n",
        "    string_in: a string\n",
        "\n",
        "    The output:\n",
        "    a list with every other letter of the given string as its items\n",
        "    \"\"\"\n",
        "    # YOUR CODE HERE\n",
        "    char_list = list(string_in) #convert to string to list\n",
        "    string_list  = [] #init empty string\n",
        "    for letter in range(0, len(char_list), 2):#iterate every 2\n",
        "      string_list.append(char_list[letter]) #add letter into list\n",
        "\n",
        "    return string_list"
      ],
      "outputs": [],
      "execution_count": 47,
      "metadata": {
        "deletable": false,
        "nbgrader": {
          "cell_type": "code",
          "checksum": "d26300b2570bdc53c6a2d869ad5d21b4",
          "grade": false,
          "grade_id": "cell-13216cb4a3cea148",
          "locked": false,
          "schema_version": 3,
          "solution": true,
          "task": false
        },
        "id": "922171f6"
      },
      "id": "922171f6"
    },
    {
      "cell_type": "code",
      "source": [
        "# Run this cell to test your code\n",
        "assert string_manipulation('This string is written for homework I') == ['T', 'i', ' ', 't', 'i', 'g', 'i', ' ', 'r', 't', 'e', ' ', 'o', ' ', 'o', 'e', 'o', 'k', 'I']"
      ],
      "outputs": [],
      "execution_count": 48,
      "metadata": {
        "deletable": false,
        "editable": false,
        "nbgrader": {
          "cell_type": "code",
          "checksum": "f9f4614a2c57a1105a0b12494e4721ec",
          "grade": true,
          "grade_id": "cell-53a09fabefab8c11",
          "locked": true,
          "points": 3,
          "schema_version": 3,
          "solution": false,
          "task": false
        },
        "id": "ff2f973b"
      },
      "id": "ff2f973b"
    },
    {
      "cell_type": "markdown",
      "source": [
        "**Question IV (3):** Write a function that adds numbers from 1 to N, where N is the input to the function and the sum from 1 to N is the output.  For example if it takes 100, it should return 5050."
      ],
      "metadata": {
        "deletable": false,
        "editable": false,
        "nbgrader": {
          "cell_type": "markdown",
          "checksum": "6352abf00c93eba0e286316eb8a83c8a",
          "grade": false,
          "grade_id": "cell-3bfc1dc293ff5616",
          "locked": true,
          "schema_version": 3,
          "solution": false,
          "task": false
        },
        "id": "c731f7db"
      },
      "id": "c731f7db"
    },
    {
      "cell_type": "code",
      "source": [
        "def sum_func(N):\n",
        "    \"\"\"\n",
        "    The input:\n",
        "    N is the number we want the summation from 1 to N\n",
        "\n",
        "    The output:\n",
        "    The summation of numbers from 1 to N\n",
        "    \"\"\"\n",
        "    # YOUR CODE HERE\n",
        "    total_sum = 0 #init counter\n",
        "    for i in range(1, N + 1): #repeats N times\n",
        "      total_sum += i #adds current iteration to counter\n",
        "\n",
        "    return total_sum"
      ],
      "outputs": [],
      "execution_count": 58,
      "metadata": {
        "deletable": false,
        "nbgrader": {
          "cell_type": "code",
          "checksum": "29abdc6c1161d109f69b08df607e4b3c",
          "grade": false,
          "grade_id": "cell-557401c87e177327",
          "locked": false,
          "schema_version": 3,
          "solution": true,
          "task": false
        },
        "id": "951fc948"
      },
      "id": "951fc948"
    },
    {
      "cell_type": "code",
      "source": [
        "# Run this cell to test your code\n",
        "assert sum_func(100) == 5050"
      ],
      "outputs": [],
      "execution_count": 59,
      "metadata": {
        "deletable": false,
        "editable": false,
        "nbgrader": {
          "cell_type": "code",
          "checksum": "c49d70046e1dd8c7a2ffff2579cf4522",
          "grade": true,
          "grade_id": "cell-b694531c530a04e0",
          "locked": true,
          "points": 3,
          "schema_version": 3,
          "solution": false,
          "task": false
        },
        "id": "20f9d849"
      },
      "id": "20f9d849"
    },
    {
      "cell_type": "markdown",
      "source": [
        "**Question V (3 pts):** The Chudnovsky series for approximating $\\pi$ was used to obtain the world record for digits of $\\pi$, 2.7 trillion digits:\n",
        "\n",
        "$$\n",
        "\\frac{1}{\\pi}=12 \\sum_{k=0}^N\\frac{(-1)^k(6k)!(13591409+545140134k)}{(3k)!(k!)^3(640320^{3k+3/2})}\n",
        "$$\n",
        "\n",
        "Write a function that takes N as an input and returns the estimated value of $\\pi$ using this series.\n",
        "\n",
        "<font color='blue'>Note:</font> The  function `math.factorial` can be used to calculate factorials in this fraction by calling it from library `math`\n",
        "```python\n",
        "import math\n",
        "# factorial of number k\n",
        "math.factorial(k)\n",
        "```"
      ],
      "metadata": {
        "deletable": false,
        "editable": false,
        "nbgrader": {
          "cell_type": "markdown",
          "checksum": "56475e6657a1cee46fcf3bf3d9860b8d",
          "grade": false,
          "grade_id": "cell-61daa8e31b2ce81c",
          "locked": true,
          "schema_version": 3,
          "solution": false,
          "task": false
        },
        "id": "a8aa0edb"
      },
      "id": "a8aa0edb"
    },
    {
      "cell_type": "code",
      "source": [
        "def chudnovsky(N):\n",
        "    \"\"\"\n",
        "    The input:\n",
        "    N for the Chudnovsky series\n",
        "\n",
        "    The output:\n",
        "    estimated value of pi\n",
        "    \"\"\"\n",
        "    # YOUR CODE HERE\n",
        "    import math\n",
        "    total_sum = 0.0 #init sigma sum\n",
        "    k = 0 #init counter for N\n",
        "    while k <= N:\n",
        "        numerator = (-1) ** k * (math.factorial(6 * k) * (13591409 + 545140134 * k))\n",
        "        denominator = math.factorial(3 * k) * (math.factorial(k) ** 3) * (640320 ** (3 * k + 3/2))\n",
        "        total_sum = total_sum + (numerator / denominator)\n",
        "        k = k + 1\n",
        "\n",
        "    total_sum = 1 / (12 * total_sum) #reciprocal\n",
        "    return total_sum"
      ],
      "outputs": [],
      "execution_count": 68,
      "metadata": {
        "deletable": false,
        "nbgrader": {
          "cell_type": "code",
          "checksum": "f12179488d4678483c9c3e30403b10b4",
          "grade": false,
          "grade_id": "cell-280f31fc95308d55",
          "locked": false,
          "schema_version": 3,
          "solution": true,
          "task": false
        },
        "id": "e5987447"
      },
      "id": "e5987447"
    },
    {
      "cell_type": "code",
      "source": [
        "# Run this cell to test your code\n",
        "assert chudnovsky(4) == 3.1415926535897936"
      ],
      "outputs": [],
      "execution_count": 69,
      "metadata": {
        "deletable": false,
        "editable": false,
        "nbgrader": {
          "cell_type": "code",
          "checksum": "dc4c77a6e716d1c370a96c4a3cb5387b",
          "grade": true,
          "grade_id": "cell-ed8b0c71a0bf563d",
          "locked": true,
          "points": 3,
          "schema_version": 3,
          "solution": false,
          "task": false
        },
        "id": "187bbad5"
      },
      "id": "187bbad5"
    }
  ],
  "metadata": {
    "kernelspec": {
      "name": "python",
      "language": "python",
      "display_name": "Pyolite (preview)"
    },
    "language_info": {
      "codemirror_mode": {
        "name": "python",
        "version": 3
      },
      "file_extension": ".py",
      "mimetype": "text/x-python",
      "name": "python",
      "nbconvert_exporter": "python",
      "pygments_lexer": "ipython3",
      "version": "3.8"
    },
    "colab": {
      "provenance": [],
      "toc_visible": true
    },
    "kernel_info": {
      "name": "python"
    },
    "nteract": {
      "version": "nteract-front-end@1.0.0"
    }
  },
  "nbformat": 4,
  "nbformat_minor": 5
}