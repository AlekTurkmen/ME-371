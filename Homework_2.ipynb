{
  "cells": [
    {
      "cell_type": "markdown",
      "id": "890b08d8",
      "metadata": {
        "deletable": false,
        "editable": false,
        "nbgrader": {
          "cell_type": "markdown",
          "checksum": "1cf11d47f3df51aa934138a4aae6ea50",
          "grade": false,
          "grade_id": "cell-91813415fcf3cd5e",
          "locked": true,
          "schema_version": 3,
          "solution": false,
          "task": false
        },
        "id": "890b08d8"
      },
      "source": [
        "# Homework II - Fall 2023\n",
        "\n",
        "This assignment will be graded automatically. Therefore:\n",
        "1. MAKE SURE to answer each question in the cell below that question. Your code should go under\n",
        "`# YOUR CODE HERE` comment\n",
        "2. DO NOT rename the functions\n",
        "3. REMOVE `raise NotImplementedError()` first and then write your code\n",
        "4. DO NOT REMOVE ANY CELL\n",
        "5. Once you are done, MAKE SURE that you restart the kernel and run all the codes before you submit your assignment. This is under `Runtime`, option `Restart and run all` on Google Colab notebook.\n",
        "6. DO NOT rename the file."
      ]
    },
    {
      "cell_type": "markdown",
      "id": "ed1dd051",
      "metadata": {
        "deletable": false,
        "editable": false,
        "nbgrader": {
          "cell_type": "markdown",
          "checksum": "fd9cfe55a9c6b0467e3c0d851f2ccc7d",
          "grade": false,
          "grade_id": "cell-4e579c6513dfe729",
          "locked": true,
          "schema_version": 3,
          "solution": false,
          "task": false
        },
        "id": "ed1dd051"
      },
      "source": [
        "**Question I (2 pts)** Write a function that takes a square 2D numpy array along with a number as inputs and returns a 2D diagonal array with the same shape and diagonal element values of the input number. For example, if it takes $\\begin{bmatrix} 5 & 15 \\\\ 100 & 45 \\end{bmatrix}$ and value 4, it should return $\\begin{bmatrix} 4 & 0 \\\\ 0 & 4 \\end{bmatrix}$."
      ]
    },
    {
      "cell_type": "code",
      "execution_count": 6,
      "id": "5e26c343",
      "metadata": {
        "deletable": false,
        "nbgrader": {
          "cell_type": "code",
          "checksum": "61d59d155bb3e92080e36c3b3d78e515",
          "grade": false,
          "grade_id": "cell-688a99ee614b4a5a",
          "locked": false,
          "schema_version": 3,
          "solution": true,
          "task": false
        },
        "id": "5e26c343"
      },
      "outputs": [],
      "source": [
        "def return_matrix(matrix_in, value_in):\n",
        "    \"\"\"\n",
        "    Inputs:\n",
        "    - A 2D array with arbitrary size\n",
        "    - A numeric value\n",
        "\n",
        "    Output:\n",
        "    - A same-size diagonal 2D array with diagonal elements of the input numeric value\n",
        "    \"\"\"\n",
        "    # YOUR CODE HERE\n",
        "    array_size = matrix_in.shape[0] #gets input matrix size\n",
        "\n",
        "    diagonal_array = np.diag([value_in] * array_size) #creates a diagonal array with matrix N size * value (4)\n",
        "    return diagonal_array"
      ]
    },
    {
      "cell_type": "code",
      "execution_count": 7,
      "id": "bd7d732c",
      "metadata": {
        "deletable": false,
        "editable": false,
        "nbgrader": {
          "cell_type": "code",
          "checksum": "2ee726124f593acff4612af1d3c7675b",
          "grade": true,
          "grade_id": "cell-4c27514a2559e9c7",
          "locked": true,
          "points": 2,
          "schema_version": 3,
          "solution": false,
          "task": false
        },
        "id": "bd7d732c"
      },
      "outputs": [],
      "source": [
        "# Run this cell to test your code\n",
        "import numpy as np\n",
        "array_2d = np.array([[5, 15], [100, 45]])\n",
        "value_test = 4\n",
        "assert np.allclose(return_matrix(array_2d, value_test), [[value_test, 0], [0, value_test]])"
      ]
    },
    {
      "cell_type": "markdown",
      "id": "86cee730",
      "metadata": {
        "deletable": false,
        "editable": false,
        "nbgrader": {
          "cell_type": "markdown",
          "checksum": "04bc7c78a0512b9f115938e98380202c",
          "grade": false,
          "grade_id": "cell-95d8e277b67fb9d9",
          "locked": true,
          "schema_version": 3,
          "solution": false,
          "task": false
        },
        "id": "86cee730"
      },
      "source": [
        "**Question II (13 pts)** For each part, write a function that takes in an arbitrary size 2-dimensional array, and\n",
        "\n",
        "_Part (1)_ returns a same size array with its elements being the square root of the original array's elements"
      ]
    },
    {
      "cell_type": "code",
      "execution_count": 12,
      "id": "12be2b56",
      "metadata": {
        "deletable": false,
        "nbgrader": {
          "cell_type": "code",
          "checksum": "051a182e148c26b06870b977dee9f732",
          "grade": false,
          "grade_id": "cell-19f78f41b7982623",
          "locked": false,
          "schema_version": 3,
          "solution": true,
          "task": false
        },
        "id": "12be2b56"
      },
      "outputs": [],
      "source": [
        "def square_root_matrix(matrix_in):\n",
        "    \"\"\"\n",
        "    Input:\n",
        "    A 2D array with arbitrary size\n",
        "\n",
        "    Output:\n",
        "    A same-size array with its elements squared values of the original matrix\n",
        "    \"\"\"\n",
        "    # YOUR CODE HERE\n",
        "    return np.sqrt(matrix_in) #use sqrt function"
      ]
    },
    {
      "cell_type": "code",
      "execution_count": 13,
      "id": "0a042ec7",
      "metadata": {
        "deletable": false,
        "editable": false,
        "nbgrader": {
          "cell_type": "code",
          "checksum": "7a3c0d90d3ed5ff90e9ceafe4db8f06e",
          "grade": true,
          "grade_id": "cell-93b27c71e1077bf8",
          "locked": true,
          "points": 2,
          "schema_version": 3,
          "solution": false,
          "task": false
        },
        "id": "0a042ec7"
      },
      "outputs": [],
      "source": [
        "# Run this cell to test your code\n",
        "import numpy as np\n",
        "array_2d = np.array([[10, 15], [45, 22]])\n",
        "assert np.allclose(square_root_matrix(array_2d), [[3.16227766, 3.87298335], [6.70820393, 4.69041576]])"
      ]
    },
    {
      "cell_type": "markdown",
      "id": "5fd8353d",
      "metadata": {
        "deletable": false,
        "editable": false,
        "nbgrader": {
          "cell_type": "markdown",
          "checksum": "7c6f77d248f7d0b4a0dae4dbafd68ebc",
          "grade": false,
          "grade_id": "cell-d2ddca23fb9139e2",
          "locked": true,
          "schema_version": 3,
          "solution": false,
          "task": false
        },
        "id": "5fd8353d"
      },
      "source": [
        "_Part (2)_ returns the 2D array found by $(A^{T}A)^{-1}$"
      ]
    },
    {
      "cell_type": "code",
      "execution_count": 35,
      "id": "562b3fbb",
      "metadata": {
        "deletable": false,
        "nbgrader": {
          "cell_type": "code",
          "checksum": "0e97a35e768e237bce99aa5eaf80f608",
          "grade": false,
          "grade_id": "cell-ff612dbbb8fb5454",
          "locked": false,
          "schema_version": 3,
          "solution": true,
          "task": false
        },
        "id": "562b3fbb"
      },
      "outputs": [],
      "source": [
        "def invert_func(matrix_in):\n",
        "    \"\"\"\n",
        "    Input:\n",
        "    A 2D array (matrix)\n",
        "\n",
        "    Output:\n",
        "    A^T*A^(-1)\n",
        "    \"\"\"\n",
        "    # YOUR CODE HERE\n",
        "    A = matrix_in.copy()\n",
        "    A_p = np.dot(A.T,A)\n",
        "    Ainv=np.linalg.inv(A_p)\n",
        "    return Ainv"
      ]
    },
    {
      "cell_type": "code",
      "execution_count": 36,
      "id": "cd1b3d4f",
      "metadata": {
        "deletable": false,
        "editable": false,
        "nbgrader": {
          "cell_type": "code",
          "checksum": "e14baed24ec46f0f815a449627cb6af0",
          "grade": true,
          "grade_id": "cell-2cbdbe88e28d695b",
          "locked": true,
          "points": 3,
          "schema_version": 3,
          "solution": false,
          "task": false
        },
        "id": "cd1b3d4f"
      },
      "outputs": [],
      "source": [
        "# Run this cell to test your code\n",
        "import numpy as np\n",
        "array_2d = np.array([[4, 5], [10, 6]])\n",
        "assert np.allclose(invert_func(array_2d), [[0.09023669, -0.1183432],[-0.1183432, 0.17159763]])"
      ]
    },
    {
      "cell_type": "markdown",
      "id": "74c662c6",
      "metadata": {
        "deletable": false,
        "editable": false,
        "nbgrader": {
          "cell_type": "markdown",
          "checksum": "3e6f9d9f33e4c6d6e83944ab370a3acd",
          "grade": false,
          "grade_id": "cell-b5272fccf7d1e451",
          "locked": true,
          "schema_version": 3,
          "solution": false,
          "task": false
        },
        "id": "74c662c6"
      },
      "source": [
        "_Part (3)_ returns the sum of all the elements across the columns (axis=0) and standard deviation for each column (axis=1). Pay attention that function should have two outputs and the order for the outputs should be first the sum and then the standard deviation."
      ]
    },
    {
      "cell_type": "code",
      "execution_count": 6,
      "id": "91e33d04",
      "metadata": {
        "deletable": false,
        "nbgrader": {
          "cell_type": "code",
          "checksum": "afe4cede90099140de64077f887ebcd6",
          "grade": false,
          "grade_id": "cell-9c6b242e981c422f",
          "locked": false,
          "schema_version": 3,
          "solution": true,
          "task": false
        },
        "id": "91e33d04"
      },
      "outputs": [],
      "source": [
        "def sum_std(matrix_in):\n",
        "    \"\"\"\n",
        "    Input:\n",
        "    A 2D array\n",
        "\n",
        "    Outputs:\n",
        "    sum of elements across the columns\n",
        "    Standard deviations down the rows\n",
        "    \"\"\"\n",
        "    # YOUR CODE HERE\n",
        "    elem_sums = np.sum(matrix_in, axis=0)\n",
        "\n",
        "    elem_std = np.std(matrix_in, axis=1)\n",
        "\n",
        "    return elem_sums, elem_std\n",
        ""
      ]
    },
    {
      "cell_type": "code",
      "execution_count": 7,
      "id": "b01ec393",
      "metadata": {
        "deletable": false,
        "editable": false,
        "nbgrader": {
          "cell_type": "code",
          "checksum": "6d7438245af38bde783e6b98e5cc4cb3",
          "grade": true,
          "grade_id": "cell-430532aeb67ae384",
          "locked": true,
          "points": 2,
          "schema_version": 3,
          "solution": false,
          "task": false
        },
        "id": "b01ec393"
      },
      "outputs": [],
      "source": [
        "# Run this cell to test your code\n",
        "import numpy as np\n",
        "array_2d = np.array([[10, 15], [45, 22]])\n",
        "assert np.allclose([55, 37], sum_std(array_2d)[0])\n",
        "assert np.allclose([2.5, 11.5], sum_std(array_2d)[1])"
      ]
    },
    {
      "cell_type": "markdown",
      "id": "95f8dde1",
      "metadata": {
        "deletable": false,
        "editable": false,
        "nbgrader": {
          "cell_type": "markdown",
          "checksum": "af56edcef7060a7a807eef958e5e4c62",
          "grade": false,
          "grade_id": "cell-83676f50c4b0ac16",
          "locked": true,
          "schema_version": 3,
          "solution": false,
          "task": false
        },
        "id": "95f8dde1"
      },
      "source": [
        "_Part (4)_ returns an array with the same size but with sorted elements down the rows (axis=0). For example if it takes\n",
        "$\\begin{bmatrix} 45 & 15 \\\\ 22 & 10\\end{bmatrix}$, it should return $\\begin{bmatrix} 22 & 10 \\\\ 45 & 15\\end{bmatrix}$"
      ]
    },
    {
      "cell_type": "code",
      "execution_count": 10,
      "id": "d3e963d5",
      "metadata": {
        "deletable": false,
        "nbgrader": {
          "cell_type": "code",
          "checksum": "cbf98ea0656f896809377de59eb07197",
          "grade": false,
          "grade_id": "cell-f1e0764360f286d8",
          "locked": false,
          "schema_version": 3,
          "solution": true,
          "task": false
        },
        "id": "d3e963d5"
      },
      "outputs": [],
      "source": [
        "def sorted_array(matrix_in):\n",
        "    \"\"\"\n",
        "    Input:\n",
        "    A 2D array\n",
        "\n",
        "    Output:\n",
        "    2D array sorted by the values down the rows\n",
        "    \"\"\"\n",
        "    # YOUR CODE HERE\n",
        "    sorted_arr = np.sort(matrix_in, axis=0)\n",
        "    return sorted_arr"
      ]
    },
    {
      "cell_type": "code",
      "execution_count": 11,
      "id": "2d79f3a2",
      "metadata": {
        "deletable": false,
        "editable": false,
        "nbgrader": {
          "cell_type": "code",
          "checksum": "0e0df1e70954f3d3b16c87739cb6c131",
          "grade": true,
          "grade_id": "cell-fc183702638e1242",
          "locked": true,
          "points": 2,
          "schema_version": 3,
          "solution": false,
          "task": false
        },
        "id": "2d79f3a2"
      },
      "outputs": [],
      "source": [
        "# Run this cell to test your code\n",
        "import numpy as np\n",
        "array_2d = np.array([[45, 15], [22, 10]])\n",
        "assert np.allclose(np.array([[22, 10], [45, 15]]), sorted_array(array_2d))"
      ]
    },
    {
      "cell_type": "markdown",
      "id": "aac80f47",
      "metadata": {
        "deletable": false,
        "editable": false,
        "nbgrader": {
          "cell_type": "markdown",
          "checksum": "6c05b2d70702bf9117582906a3f9619e",
          "grade": false,
          "grade_id": "cell-dbb8eb380e65a3a4",
          "locked": true,
          "schema_version": 3,
          "solution": false,
          "task": false
        },
        "id": "aac80f47"
      },
      "source": [
        " _Part (5)_ returns a slice that has the elements on rows 2 and 3 and columns 2 to 4 (inclusive). Your function **should first check** if the array has at least 3 rows and 4 columns. If it does not, it should return the message `The array does not have the proper size`. For example, if it takes $\\begin{bmatrix} 100 & 150 & 800 & 100 & 130 \\\\ 500 &  220 &  450 & 3000 & 340 \\\\ 520 &  550 & 400 & 160 & 150 \\end{bmatrix}$, it should return $\\begin{bmatrix} 220 & 450 & 3000 \\\\ 550 & 400 & 160\\end{bmatrix}$. If it takes $\\begin{bmatrix} 450 & 3000 \\\\ 400 & 160\\end{bmatrix}$, it should return `The array does not have the proper size`.\n",
        "\n",
        "<font color='blue'>Note:</font> The function should return a string containing `The array does not have the proper size` and NOT print this string. It means you need\n",
        "```python\n",
        "return str('The array does not have the proper size')\n",
        "```\n",
        ""
      ]
    },
    {
      "cell_type": "code",
      "execution_count": 22,
      "id": "c8ac78e2",
      "metadata": {
        "deletable": false,
        "nbgrader": {
          "cell_type": "code",
          "checksum": "ed1052d02b55c85492542aba0723aefe",
          "grade": false,
          "grade_id": "cell-a0a68f584c12f104",
          "locked": false,
          "schema_version": 3,
          "solution": true,
          "task": false
        },
        "id": "c8ac78e2"
      },
      "outputs": [],
      "source": [
        "def slicing_func(matrix_in):\n",
        "    \"\"\"\n",
        "    Input:\n",
        "    A 2D array\n",
        "\n",
        "    Output:\n",
        "    The slice including rows 2 and 3 and columns 2,3, and 4\n",
        "    \"\"\"\n",
        "    # YOUR CODE HERE\n",
        "    #Checking for an array that is atleast 3x4\n",
        "    if matrix_in.shape[0] >= 3 and matrix_in.shape[1] >= 4:\n",
        "      #return rows 2 and 3 and columns 2 to 4 (inclusive)\n",
        "      elem_slice = matrix_in[1:3, 1:4]\n",
        "      return elem_slice\n",
        "    else:\n",
        "      return 'The array does not have the proper size'"
      ]
    },
    {
      "cell_type": "code",
      "execution_count": 23,
      "id": "c703d9c3",
      "metadata": {
        "deletable": false,
        "editable": false,
        "nbgrader": {
          "cell_type": "code",
          "checksum": "2c9c0b031ceb1d13641123f63e99327d",
          "grade": true,
          "grade_id": "cell-78ea5968185aefa2",
          "locked": true,
          "points": 4,
          "schema_version": 3,
          "solution": false,
          "task": false
        },
        "id": "c703d9c3"
      },
      "outputs": [],
      "source": [
        "# Run this cell to test your code\n",
        "# Test 1\n",
        "import numpy as np\n",
        "array_2d = np.array([[100, 150, 800, 100, 130], [500, 220, 450, 3000, 340], [520, 550, 400, 160, 150]])\n",
        "assert np.allclose(np.array([[220,  450, 3000],[550,  400,  160]]), slicing_func(array_2d))\n",
        "# Test 2\n",
        "array_2d = np.array([[100, 130], [500, 220], [520, 150]])\n",
        "assert slicing_func(array_2d)=='The array does not have the proper size'"
      ]
    },
    {
      "cell_type": "code",
      "source": [],
      "metadata": {
        "id": "u0sqsXAWIf9f"
      },
      "id": "u0sqsXAWIf9f",
      "execution_count": null,
      "outputs": []
    }
  ],
  "metadata": {
    "kernelspec": {
      "display_name": "Python 3 (ipykernel)",
      "language": "python",
      "name": "python3"
    },
    "language_info": {
      "codemirror_mode": {
        "name": "ipython",
        "version": 3
      },
      "file_extension": ".py",
      "mimetype": "text/x-python",
      "name": "python",
      "nbconvert_exporter": "python",
      "pygments_lexer": "ipython3",
      "version": "3.9.5"
    },
    "colab": {
      "provenance": []
    }
  },
  "nbformat": 4,
  "nbformat_minor": 5
}
