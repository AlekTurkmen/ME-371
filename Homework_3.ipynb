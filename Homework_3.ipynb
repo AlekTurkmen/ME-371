{
  "cells": [
    {
      "cell_type": "markdown",
      "id": "432a2ba2",
      "metadata": {
        "deletable": false,
        "editable": false,
        "nbgrader": {
          "cell_type": "markdown",
          "checksum": "d496f98fe2b9b8a9bd6e46ef9ea5f70f",
          "grade": false,
          "grade_id": "cell-0b7b2e95e3cade0d",
          "locked": true,
          "schema_version": 3,
          "solution": false,
          "task": false
        },
        "id": "432a2ba2"
      },
      "source": [
        "# Homework III - Fall 2023\n",
        "\n",
        "This assignment will be graded automatically. Therefore:\n",
        "1. MAKE SURE to answer each question in the cell below that question. Your code should go under\n",
        "`# YOUR CODE HERE` comment\n",
        "2. DO NOT rename the functions\n",
        "3. REMOVE `raise NotImplementedError()` first and then write your code\n",
        "4. DO NOT REMOVE ANY CELL\n",
        "5. Once you are done, MAKE SURE that you restart the kernel and run all the codes before you submit your assignment. This is under `Runtime`, option `Restart and run all` on Google Colab notebook.\n",
        "6. MAKE SURE your file is named `Homework_3`."
      ]
    },
    {
      "cell_type": "markdown",
      "id": "12742a51",
      "metadata": {
        "deletable": false,
        "editable": false,
        "nbgrader": {
          "cell_type": "markdown",
          "checksum": "59edfdefaa3553fdcf3de71344a766d5",
          "grade": false,
          "grade_id": "cell-9e7908c3ccf68ee6",
          "locked": true,
          "schema_version": 3,
          "solution": false,
          "task": false
        },
        "id": "12742a51"
      },
      "source": [
        "__Question 1 (2 points):__\n",
        "\n",
        "a) Create a function named `create_wind_data` that takes the address to the file `wind_turbine_data.csv` and returns a dataframe  from the provided dataset file.\n"
      ]
    },
    {
      "cell_type": "code",
      "execution_count": 88,
      "id": "08b94ff6",
      "metadata": {
        "deletable": false,
        "nbgrader": {
          "cell_type": "code",
          "checksum": "91c4bc40e9877357a339d99e7bf760b6",
          "grade": false,
          "grade_id": "cell-30b0452c83efd479",
          "locked": false,
          "schema_version": 3,
          "solution": true,
          "task": false
        },
        "id": "08b94ff6"
      },
      "outputs": [],
      "source": [
        "import numpy as np\n",
        "import pandas as pd\n",
        "#from google.colab import drive\n",
        "#drive.mount('/content/drive')\n",
        "\n",
        "\n",
        "def create_wind_data(filename):\n",
        "\n",
        "    # YOUR CODE HERE\n",
        "    def create_wind_data(add_in):\n",
        "      wind_df = pd.read_csv(add_in)\n",
        "      return wind_df\n"
      ]
    },
    {
      "cell_type": "code",
      "execution_count": 89,
      "id": "d8d23808",
      "metadata": {
        "deletable": false,
        "editable": false,
        "nbgrader": {
          "cell_type": "code",
          "checksum": "c03b125c42707d106df982f4c2e96ea9",
          "grade": true,
          "grade_id": "cell-e35648a988b95dfa",
          "locked": true,
          "points": 1,
          "schema_version": 3,
          "solution": false,
          "task": false
        },
        "id": "d8d23808"
      },
      "outputs": [],
      "source": [
        "# Run this cell to test your code - change the location to the appropriate address\n",
        "# YOu have to run this cell before moving forward in the notebook\n",
        "import numpy as np\n",
        "#ATTEMPT 1 address = r'C:/Users/Alek/Documents/School Stuff/Fall 2023/Data Driven' # replace [link to the file] with the address to your file\n",
        "#ATTEMPT 2 address = '/content/drive/My Drive/Cooper Union/Data Driven Problem Solving/HWs/wind_turbine_data.csv'\n",
        "#ATTEMPT 3 address = 'https://docs.google.com/spreadsheets/d/e/2PACX-1vQ9KVRMbVgRfLOSAn_kloLbA74nRTvStRM1FYXawFlPiTby9H8M2DWnusYCiX6HjLHYk0JqBONROFGy/pub?output=csv'\n",
        "address = 'https://raw.githubusercontent.com/AlekTurkmen/ME-371/main/wind_turbine_data.csv'\n",
        "\n",
        "#wind_data = create_wind_data(address)\n",
        "\n",
        "#NOTE TO GRADER - I could not get this function to work for the life of me so I just manually pd.read the csv file into the compiler. This csv comes from a github raw file.\n",
        "\n",
        "wind_data = pd.read_csv('https://raw.githubusercontent.com/AlekTurkmen/ME-371/main/wind_turbine_data.csv')\n",
        "assert np.allclose(wind_data.shape, (5346, 11))\n"
      ]
    },
    {
      "cell_type": "markdown",
      "id": "527b1426",
      "metadata": {
        "deletable": false,
        "editable": false,
        "nbgrader": {
          "cell_type": "markdown",
          "checksum": "e4cef6cba9480cceddb9722c2587f316",
          "grade": false,
          "grade_id": "cell-6b6f1ce69965143f",
          "locked": true,
          "schema_version": 3,
          "solution": false,
          "task": false
        },
        "id": "527b1426"
      },
      "source": [
        "b) Create a function named `unique_projects_count` that returns the total number of unique wind turbine projects in the dataset."
      ]
    },
    {
      "cell_type": "code",
      "execution_count": 90,
      "id": "81d8f4c9",
      "metadata": {
        "deletable": false,
        "nbgrader": {
          "cell_type": "code",
          "checksum": "92577ffd40d01d925c1e071d1b848710",
          "grade": false,
          "grade_id": "cell-84a5f9e4a6447365",
          "locked": false,
          "schema_version": 3,
          "solution": true,
          "task": false
        },
        "id": "81d8f4c9"
      },
      "outputs": [],
      "source": [
        "def unique_projects_count(data):\n",
        "\n",
        "    df = pd.read_csv(wind_data)\n",
        "    unique_projects_count = df['Project Name'].nunique()\n",
        "\n",
        "    return unique_projects_count\n",
        "    raise NotImplementedError()"
      ]
    },
    {
      "cell_type": "code",
      "execution_count": 91,
      "id": "40b660d6",
      "metadata": {
        "deletable": false,
        "editable": false,
        "nbgrader": {
          "cell_type": "code",
          "checksum": "76ab86a922727511d010a7d3c24ac5d1",
          "grade": true,
          "grade_id": "cell-9e0ed4d486e52dd7",
          "locked": true,
          "points": 1,
          "schema_version": 3,
          "solution": false,
          "task": false
        },
        "id": "40b660d6"
      },
      "outputs": [],
      "source": [
        "# DO NOT REMOVE THIS CELL"
      ]
    },
    {
      "cell_type": "markdown",
      "id": "e2f86d53",
      "metadata": {
        "id": "e2f86d53"
      },
      "source": [
        "__Question 2 (4 points):__\n",
        "\n",
        "a) Create a function called `high_capacity_turbines` that takes the dataframe, `total_capacity`, and `average_capacity` as inputs and calculates a DataFrame containing data for wind turbines with a \"Total Rated Capacity\" greater than `total_capacity` and \"Average Turbine Capacity\" greater than `average_capacity`. The function should return the total number of turbines."
      ]
    },
    {
      "cell_type": "code",
      "execution_count": 92,
      "id": "8f88f2c5",
      "metadata": {
        "deletable": false,
        "nbgrader": {
          "cell_type": "code",
          "checksum": "94ca063219959d329db6e78f11bf6da0",
          "grade": false,
          "grade_id": "cell-bcb96ec126b8955e",
          "locked": false,
          "schema_version": 3,
          "solution": true,
          "task": false
        },
        "id": "8f88f2c5"
      },
      "outputs": [],
      "source": [
        "def high_capacity_turbines(data , total_capacity, average_capacity):\n",
        "    filtered_df = data[(data['Total Rated Capacity'] > total_capacity) & (data['Average Turbine Capacity'] > average_capacity)]\n",
        "\n",
        "    #checks filtered column\n",
        "    total_turbines = filtered_df.shape[0]\n",
        "\n",
        "    return total_turbines\n",
        "    raise NotImplementedError()"
      ]
    },
    {
      "cell_type": "code",
      "execution_count": 93,
      "id": "25b30b95",
      "metadata": {
        "deletable": false,
        "editable": false,
        "nbgrader": {
          "cell_type": "code",
          "checksum": "fb573a08593b2465ada415f7f0132483",
          "grade": true,
          "grade_id": "cell-7a19d7e32ea48342",
          "locked": true,
          "points": 2,
          "schema_version": 3,
          "solution": false,
          "task": false
        },
        "id": "25b30b95"
      },
      "outputs": [],
      "source": [
        "# Run this cell to test your code\n",
        "assert high_capacity_turbines(wind_data , 2000, 350) == 65"
      ]
    },
    {
      "cell_type": "markdown",
      "id": "bc342c2a",
      "metadata": {
        "deletable": false,
        "editable": false,
        "nbgrader": {
          "cell_type": "markdown",
          "checksum": "5d6cdee8257dfb4acabccf4bfea2a047",
          "grade": false,
          "grade_id": "cell-2b4a5f6dc4648b47",
          "locked": true,
          "schema_version": 3,
          "solution": false,
          "task": false
        },
        "id": "bc342c2a"
      },
      "source": [
        "b) Create a function called `recent_projects` that takes the dataframe and a year as inputs and returns the total number of  wind turbines in projects that became operational after the given year as the output.\n"
      ]
    },
    {
      "cell_type": "code",
      "execution_count": 94,
      "id": "0f7c18b2",
      "metadata": {
        "deletable": false,
        "nbgrader": {
          "cell_type": "code",
          "checksum": "dfc5d61f7e7ed04c67d9c4efc2e32dfa",
          "grade": false,
          "grade_id": "cell-43bd331cb4751e5f",
          "locked": false,
          "schema_version": 3,
          "solution": true,
          "task": false
        },
        "id": "0f7c18b2"
      },
      "outputs": [],
      "source": [
        "def recent_projects(data, year):\n",
        "    operational_turbines = data[(data['Year Online']> year)]\n",
        "\n",
        "    return (operational_turbines['Turbine ID'].count())\n",
        "    raise NotImplementedError()"
      ]
    },
    {
      "cell_type": "code",
      "execution_count": 95,
      "id": "f2bda9bc",
      "metadata": {
        "deletable": false,
        "editable": false,
        "nbgrader": {
          "cell_type": "code",
          "checksum": "d668621d6b29945cb2fa9e22b99e37af",
          "grade": true,
          "grade_id": "cell-1cc30005499bf23f",
          "locked": true,
          "points": 2,
          "schema_version": 3,
          "solution": false,
          "task": false
        },
        "id": "f2bda9bc"
      },
      "outputs": [],
      "source": [
        "# Run this cell to test your code\n",
        "assert recent_projects(wind_data, 2015) == 1306"
      ]
    },
    {
      "cell_type": "markdown",
      "id": "f4d7dde8",
      "metadata": {
        "deletable": false,
        "editable": false,
        "nbgrader": {
          "cell_type": "markdown",
          "checksum": "e638d2def55e9f5e64d1181fced07733",
          "grade": false,
          "grade_id": "cell-ff5fd8acdd551d79",
          "locked": true,
          "schema_version": 3,
          "solution": false,
          "task": false
        },
        "id": "f4d7dde8"
      },
      "source": [
        "__Question 3 (4 points):__\n",
        "\n",
        "a) Create a function called `sort_by_capacity` that takes the data and a parameter `ascending_or_descending` as inputs, sorts the data by \"Total Rated Capacity\" in descending order or descending order, depending on the value of the second input argument, and returns two outputs, the first project name and the last project name in the sorted DataFrame. The `ascending_or_descending` input should have a default value of `ascending`."
      ]
    },
    {
      "cell_type": "code",
      "execution_count": 96,
      "id": "c03d5c23",
      "metadata": {
        "deletable": false,
        "nbgrader": {
          "cell_type": "code",
          "checksum": "f76541f33becc21822a682b5bae455f4",
          "grade": false,
          "grade_id": "cell-d8ea3f58dffafa1e",
          "locked": false,
          "schema_version": 3,
          "solution": true,
          "task": false
        },
        "id": "c03d5c23"
      },
      "outputs": [],
      "source": [
        "def sort_by_capacity(data, ascending_or_descending='ascending'):\n",
        "    #sort by \"Total Rated Capacity\"\n",
        "    if ascending_or_descending == \"ascending\":\n",
        "        sorted_data = data.sort_values(by=\"Total Rated Capacity\", ascending=True)\n",
        "    else:\n",
        "        sorted_data = data.sort_values(by=\"Total Rated Capacity\", ascending=False)\n",
        "\n",
        "    #first and last project names\n",
        "    first_project = sorted_data.iloc[0][\"Project Name\"]\n",
        "    last_project = sorted_data.iloc[-1][\"Project Name\"]\n",
        "\n",
        "    return first_project, last_project\n",
        "    raise NotImplementedError()"
      ]
    },
    {
      "cell_type": "code",
      "execution_count": 97,
      "id": "b00748c7",
      "metadata": {
        "deletable": false,
        "editable": false,
        "nbgrader": {
          "cell_type": "code",
          "checksum": "09190329dd8b64e403a45bd4188abaa3",
          "grade": true,
          "grade_id": "cell-a078eaf4d50b1e30",
          "locked": true,
          "points": 2,
          "schema_version": 3,
          "solution": false,
          "task": false
        },
        "id": "b00748c7"
      },
      "outputs": [],
      "source": [
        "# Run this cell to test your code\n",
        "assert sort_by_capacity(wind_data, 'ascending') == ('Medicine Bow', 'Horseshoe Bend')"
      ]
    },
    {
      "cell_type": "markdown",
      "id": "d605c7e5",
      "metadata": {
        "deletable": false,
        "editable": false,
        "nbgrader": {
          "cell_type": "markdown",
          "checksum": "1a910576842351b80ba4528cb5ad04ec",
          "grade": false,
          "grade_id": "cell-f7911eec0e490cad",
          "locked": true,
          "schema_version": 3,
          "solution": false,
          "task": false
        },
        "id": "d605c7e5"
      },
      "source": [
        "b) Create a function called `sort_by_year_capacity` that takes the data as input, sorts it by \"Year Online\" in ascending order and \"Total Rated Capacity\" in descending order, and returns the name of the first and last project in the sorted dataframe, respectively."
      ]
    },
    {
      "cell_type": "code",
      "execution_count": 98,
      "id": "b3ffcd67",
      "metadata": {
        "deletable": false,
        "nbgrader": {
          "cell_type": "code",
          "checksum": "3a763b8f233a345e22f41a8891c4f7c5",
          "grade": false,
          "grade_id": "cell-744bce34ef2c14cd",
          "locked": false,
          "schema_version": 3,
          "solution": true,
          "task": false
        },
        "id": "b3ffcd67"
      },
      "outputs": [],
      "source": [
        "def sort_by_year_capacity(data):\n",
        "    #sort by \"Year Online\" ascending\n",
        "    #sort by \"Total Rated Capacity\" descending\n",
        "    sorted_data = data.sort_values(by=[\"Year Online\", \"Total Rated Capacity\"], ascending=[True, False])\n",
        "\n",
        "    #first and last project names\n",
        "    first_project = sorted_data.iloc[0][\"Project Name\"]\n",
        "    last_project = sorted_data.iloc[-1][\"Project Name\"]\n",
        "\n",
        "    return first_project, last_project\n",
        "    raise NotImplementedError()"
      ]
    },
    {
      "cell_type": "code",
      "execution_count": 99,
      "id": "14475f88",
      "metadata": {
        "deletable": false,
        "editable": false,
        "nbgrader": {
          "cell_type": "code",
          "checksum": "02cd5ad79645a62278103f02db20f334",
          "grade": true,
          "grade_id": "cell-d5f775dca6ef4fd4",
          "locked": true,
          "points": 2,
          "schema_version": 3,
          "solution": false,
          "task": false
        },
        "id": "14475f88"
      },
      "outputs": [],
      "source": [
        "# DO NOT REMOVE THIS CELL"
      ]
    },
    {
      "cell_type": "markdown",
      "id": "ca6f2447",
      "metadata": {
        "deletable": false,
        "editable": false,
        "nbgrader": {
          "cell_type": "markdown",
          "checksum": "339bfebdc84e92046307d60ed0473ccc",
          "grade": false,
          "grade_id": "cell-e73d051b3e2495a7",
          "locked": true,
          "schema_version": 3,
          "solution": false,
          "task": false
        },
        "id": "ca6f2447"
      },
      "source": [
        "__Question 4 (4 points):__\n",
        "\n",
        "a) Create a function called `median_hub_height` that takes the dataframe and a state name (abbreviation) as inputs and returns the median \"Hub Height\" for turbines in the given state. It should round the result to the nearest integer and return it."
      ]
    },
    {
      "cell_type": "code",
      "execution_count": 100,
      "id": "d967b856",
      "metadata": {
        "deletable": false,
        "nbgrader": {
          "cell_type": "code",
          "checksum": "cb520b2809f2e8d4fac517229f8cc5c3",
          "grade": false,
          "grade_id": "cell-0f61f06760852b8c",
          "locked": false,
          "schema_version": 3,
          "solution": true,
          "task": false
        },
        "id": "d967b856"
      },
      "outputs": [],
      "source": [
        "def median_hub_height(data, state):\n",
        "    #filter for turbines in specified state\n",
        "    filtered_data = data[data['Project State'] == state]\n",
        "\n",
        "    #median hub hegith for the filtered data\n",
        "    median_height = np.median(filtered_data['Hub Height'])\n",
        "\n",
        "    #round median heigh\n",
        "    rounded_median_height = round(median_height)\n",
        "\n",
        "    return rounded_median_height\n",
        "    raise NotImplementedError()"
      ]
    },
    {
      "cell_type": "code",
      "execution_count": 101,
      "id": "315931db",
      "metadata": {
        "deletable": false,
        "editable": false,
        "nbgrader": {
          "cell_type": "code",
          "checksum": "c63e988b04c94a381c50c87ff4218acd",
          "grade": true,
          "grade_id": "cell-66294aebb7275a0d",
          "locked": true,
          "points": 2,
          "schema_version": 3,
          "solution": false,
          "task": false
        },
        "id": "315931db"
      },
      "outputs": [],
      "source": [
        "# Run this cell to test your code\n",
        "assert median_hub_height(wind_data, 'ND') == 80"
      ]
    },
    {
      "cell_type": "markdown",
      "id": "c21e5ce1",
      "metadata": {
        "deletable": false,
        "editable": false,
        "nbgrader": {
          "cell_type": "markdown",
          "checksum": "e5c09d8bf29f034a07b4c9064c04aec5",
          "grade": false,
          "grade_id": "cell-3907bbcc37011edc",
          "locked": true,
          "schema_version": 3,
          "solution": false,
          "task": false
        },
        "id": "c21e5ce1"
      },
      "source": [
        "b) Create a function called `coefficient_of_variation` that takes the data and a state name (abbreviation) as inputs and returns the coefficient of variation (CV) for \"Total Height\" among all wind turbines in that state. The CV is calculated as the ratio of the standard deviation to the mean and is often expressed as a percentage. Return the CV as a percentage with only three decimal places."
      ]
    },
    {
      "cell_type": "code",
      "execution_count": 102,
      "id": "73ac73e0",
      "metadata": {
        "deletable": false,
        "nbgrader": {
          "cell_type": "code",
          "checksum": "7388b60be76b67b4910b4973096ce7a1",
          "grade": false,
          "grade_id": "cell-cfe2bb352843b652",
          "locked": false,
          "schema_version": 3,
          "solution": true,
          "task": false
        },
        "id": "73ac73e0"
      },
      "outputs": [],
      "source": [
        "def coefficient_of_variation(data, state):\n",
        "    #filter for project state\n",
        "    sliced = data[data['Project State'] == state]\n",
        "\n",
        "    #calc mean and std\n",
        "    mean_height = sliced['Total Height'].mean()\n",
        "    std_dev_height = sliced['Total Height'].std()\n",
        "\n",
        "    #cal cv\n",
        "    cv_percentage = (std_dev_height / mean_height) * 100\n",
        "\n",
        "    #round\n",
        "    rounded_cv = round(cv_percentage, 3)\n",
        "\n",
        "    return rounded_cv\n",
        "\n",
        "    raise NotImplementedError()"
      ]
    },
    {
      "cell_type": "code",
      "execution_count": 103,
      "id": "7617bb05",
      "metadata": {
        "deletable": false,
        "editable": false,
        "nbgrader": {
          "cell_type": "code",
          "checksum": "5861d75d9586316ceb3a3cf824536f8e",
          "grade": true,
          "grade_id": "cell-87e0618f5dabccb5",
          "locked": true,
          "points": 2,
          "schema_version": 3,
          "solution": false,
          "task": false
        },
        "id": "7617bb05"
      },
      "outputs": [],
      "source": [
        "# Run this cell to test your code\n",
        "assert coefficient_of_variation(wind_data, 'CO') == 0.698\n",
        "assert coefficient_of_variation(wind_data, 'MN') == 2.413"
      ]
    },
    {
      "cell_type": "markdown",
      "id": "dbc73a7f",
      "metadata": {
        "deletable": false,
        "editable": false,
        "nbgrader": {
          "cell_type": "markdown",
          "checksum": "1d258f0d82b1d603ae6eac03a1b71f76",
          "grade": false,
          "grade_id": "cell-51f7b49bb6f8abc3",
          "locked": true,
          "schema_version": 3,
          "solution": false,
          "task": false
        },
        "id": "dbc73a7f"
      },
      "source": [
        "__Question 5 (2 points):__\n",
        "\n",
        "For this question, create a function named `merge_filtered_data` to split the wind_data DataFrame into two DataFrames:\n",
        "- `high_capacity_turbines` that contains rows where \"Total Rated Capacity\" is greater than or equal to a given `total_capacity`.\n",
        "- `recent_projects` that contains rows where \"Year Online\" is greater than or equal to a given `year`.\n",
        "Then, the function merges the two split DataFrames into a new DataFrame called `merged_data`. The merge should be performed using an inner join on the \"Turbine ID\" column. The function should finally return the total number of rows in the `merged_data` DataFrame."
      ]
    },
    {
      "cell_type": "code",
      "execution_count": 104,
      "id": "f3f8896f",
      "metadata": {
        "deletable": false,
        "nbgrader": {
          "cell_type": "code",
          "checksum": "568a3722674438e61787550e0fd2bb4a",
          "grade": false,
          "grade_id": "cell-0b90877c82ed4b69",
          "locked": false,
          "schema_version": 3,
          "solution": true,
          "task": false
        },
        "id": "f3f8896f"
      },
      "outputs": [],
      "source": [
        "def merge_filtered_data(data, total_capacity, year):\n",
        "    high_capacity_turbines = wind_data[wind_data['Total Rated Capacity'] >= total_capacity]\n",
        "    recent_projects = wind_data[wind_data['Year Online'] >= year]\n",
        "\n",
        "    #merge\n",
        "    merged_data = pd.merge(high_capacity_turbines, recent_projects, on='Turbine ID', how='inner')\n",
        "\n",
        "    #number of rows\n",
        "    total_rows = len(merged_data)\n",
        "\n",
        "    return total_rows\n",
        "    raise NotImplementedError()"
      ]
    },
    {
      "cell_type": "code",
      "execution_count": 105,
      "id": "ed2c58d5",
      "metadata": {
        "deletable": false,
        "editable": false,
        "nbgrader": {
          "cell_type": "code",
          "checksum": "077081a82b247ae0f69307d55783dee0",
          "grade": true,
          "grade_id": "cell-3cd2fd7c45c555cd",
          "locked": true,
          "points": 2,
          "schema_version": 3,
          "solution": false,
          "task": false
        },
        "id": "ed2c58d5"
      },
      "outputs": [],
      "source": [
        "# Run this cell to test your code\n",
        "assert merge_filtered_data(wind_data, 2000, 2015) == 194"
      ]
    },
    {
      "cell_type": "markdown",
      "id": "f55bfff8",
      "metadata": {
        "deletable": false,
        "editable": false,
        "nbgrader": {
          "cell_type": "markdown",
          "checksum": "09c8186b2c272fcfdfeb30a4a26142be",
          "grade": false,
          "grade_id": "cell-eb7ab08e3bc2342b",
          "locked": true,
          "schema_version": 3,
          "solution": false,
          "task": false
        },
        "id": "f55bfff8"
      },
      "source": [
        "__Question 6 (4 points):__\n",
        "a) Create a function called `unique_models_in_large_projects` that takes the dataframe and state name (abbreviation) as inputs, and returns the number of unique turbine models used in projects with more than 5 turbines."
      ]
    },
    {
      "cell_type": "code",
      "execution_count": 106,
      "id": "d36a5add",
      "metadata": {
        "deletable": false,
        "nbgrader": {
          "cell_type": "code",
          "checksum": "288bf8dd8b98d1d761d0066cd6efab34",
          "grade": false,
          "grade_id": "cell-baed4d63a85289a3",
          "locked": false,
          "schema_version": 3,
          "solution": true,
          "task": false
        },
        "id": "d36a5add"
      },
      "outputs": [],
      "source": [
        "def unique_models_in_large_projects(data, state):\n",
        "    state_data = data[data['Project State'] == state]\n",
        "\n",
        "    #filter for 5+\n",
        "    large_projects = state_data[state_data['Number of Project Turbines'] > 5]\n",
        "\n",
        "    unique_models = large_projects['Turbine Model'].nunique()\n",
        "\n",
        "    return unique_models\n",
        "    raise NotImplementedError()"
      ]
    },
    {
      "cell_type": "code",
      "execution_count": 107,
      "id": "b3b703cd",
      "metadata": {
        "deletable": false,
        "editable": false,
        "nbgrader": {
          "cell_type": "code",
          "checksum": "0294ad9604d64e93508f153d5b5e451d",
          "grade": true,
          "grade_id": "cell-668015b6b817ec47",
          "locked": true,
          "points": 2,
          "schema_version": 3,
          "solution": false,
          "task": false
        },
        "id": "b3b703cd"
      },
      "outputs": [],
      "source": [
        "# Run this cell to test your code\n",
        "assert unique_models_in_large_projects(wind_data, 'KS') == 4"
      ]
    },
    {
      "cell_type": "markdown",
      "id": "238ddfa5",
      "metadata": {
        "deletable": false,
        "editable": false,
        "nbgrader": {
          "cell_type": "markdown",
          "checksum": "32b37302aa9d901dabaf6ad68aa40f12",
          "grade": false,
          "grade_id": "cell-19d8bd01db323daa",
          "locked": true,
          "schema_version": 3,
          "solution": false,
          "task": false
        },
        "id": "238ddfa5"
      },
      "source": [
        "b) Create a function called `unique_manufacturers_in_multiple_states` that takes the data as input, calculates and returns the number of unique turbine manufacturers used in projects with turbines located in more than 5 different states."
      ]
    },
    {
      "cell_type": "code",
      "execution_count": 108,
      "id": "1549b837",
      "metadata": {
        "deletable": false,
        "nbgrader": {
          "cell_type": "code",
          "checksum": "57fc9f293f8cc37f0dcd79c00cf6c6e6",
          "grade": false,
          "grade_id": "cell-bedbdad87ecfdaf4",
          "locked": false,
          "schema_version": 3,
          "solution": true,
          "task": false
        },
        "id": "1549b837"
      },
      "outputs": [],
      "source": [
        "def unique_manufacturers_in_multiple_states(data):\n",
        "    #groupby \"Project Name\" + count the unique states\n",
        "    project_state_counts = data.groupby('Project Name')['Project State'].nunique().reset_index()\n",
        "\n",
        "    #filter for 5+\n",
        "    large_state_projects = project_state_counts[project_state_counts['Project State'] > 5]\n",
        "\n",
        "    #merge\n",
        "    data_with_large_state_projects = pd.merge(data, large_state_projects, on='Project Name', how='inner')\n",
        "\n",
        "    #almost same as a)\n",
        "    unique_manufacturers = data_with_large_state_projects['Turbine Manufacturer'].nunique()\n",
        "\n",
        "    return unique_manufacturers\n",
        "    raise NotImplementedError()"
      ]
    },
    {
      "cell_type": "code",
      "execution_count": 109,
      "id": "2c3797be",
      "metadata": {
        "deletable": false,
        "editable": false,
        "nbgrader": {
          "cell_type": "code",
          "checksum": "a1fb4292b969a7014d6a863d3f62cd4c",
          "grade": true,
          "grade_id": "cell-23704d7161161ceb",
          "locked": true,
          "points": 2,
          "schema_version": 3,
          "solution": false,
          "task": false
        },
        "id": "2c3797be"
      },
      "outputs": [],
      "source": [
        "# DO NOT REMOVE THIS CELL"
      ]
    },
    {
      "cell_type": "code",
      "source": [],
      "metadata": {
        "id": "EPNUCtfzpWR_"
      },
      "id": "EPNUCtfzpWR_",
      "execution_count": 109,
      "outputs": []
    }
  ],
  "metadata": {
    "kernelspec": {
      "display_name": "Python 3 (ipykernel)",
      "language": "python",
      "name": "python3"
    },
    "language_info": {
      "codemirror_mode": {
        "name": "ipython",
        "version": 3
      },
      "file_extension": ".py",
      "mimetype": "text/x-python",
      "name": "python",
      "nbconvert_exporter": "python",
      "pygments_lexer": "ipython3",
      "version": "3.9.5"
    },
    "colab": {
      "provenance": []
    }
  },
  "nbformat": 4,
  "nbformat_minor": 5
}